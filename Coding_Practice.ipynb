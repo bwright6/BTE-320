{
  "nbformat": 4,
  "nbformat_minor": 0,
  "metadata": {
    "colab": {
      "provenance": [],
      "authorship_tag": "ABX9TyMIEYpgvDZIMeZFN6bhfflu",
      "include_colab_link": true
    },
    "kernelspec": {
      "name": "python3",
      "display_name": "Python 3"
    },
    "language_info": {
      "name": "python"
    }
  },
  "cells": [
    {
      "cell_type": "markdown",
      "metadata": {
        "id": "view-in-github",
        "colab_type": "text"
      },
      "source": [
        "<a href=\"https://colab.research.google.com/github/bwright6/BTE-320/blob/main/Coding_Practice.ipynb\" target=\"_parent\"><img src=\"https://colab.research.google.com/assets/colab-badge.svg\" alt=\"Open In Colab\"/></a>"
      ]
    },
    {
      "cell_type": "code",
      "execution_count": null,
      "metadata": {
        "colab": {
          "base_uri": "https://localhost:8080/"
        },
        "id": "kAA4ox48F4sQ",
        "outputId": "c1f46da9-f168-40d0-8e10-f5570e41ae6b"
      },
      "outputs": [
        {
          "name": "stdout",
          "output_type": "stream",
          "text": [
            "Do you want to play : (y/n)y\n",
            "Enter rock, paper, or scissors:rock\n",
            "computer chose: scissors\n",
            "user wins\n",
            "Do you want to play again? (y/n)n\n"
          ]
        }
      ],
      "source": [
        "import random\n",
        "Playagain= input(\"Do you want to play : (y/n)\")\n",
        "while Playagain == \"y\":\n",
        "  computer_choice = random.choice (['rock', 'paper', 'scissors'])\n",
        "  userinput = input (\"Enter rock, paper, or scissors:\")\n",
        "  print(f'computer chose: {computer_choice}')\n",
        "  if (userinput =='rock' and computer_choice == 'scissors') or (userinput == 'paper' and computer_choice == 'rock') or (userinput == 'scissors' and computer_choice == 'paper') :\n",
        "    print (\"user wins\")\n",
        "  elif userinput == computer_choice :\n",
        "    print (\"its a tie\")\n",
        "  else :\n",
        "    print (\"computer wins\")\n",
        "\n",
        "  Playagain=input(\"Do you want to play again? (y/n)\")"
      ]
    },
    {
      "cell_type": "code",
      "source": [
        "import random\n",
        "computer_choice = random.choice (['rock', 'paper', 'scissors'])\n",
        "userinput = input (\"Enter rock, paper, or scissors:\")\n",
        "print(f'computer chose: {computer_choice}')\n",
        "if (userinput =='rock' and computer_choice == 'scissors') or (userinput == 'paper' and computer_choice == 'rock') or (userinput == 'scissors' and computer_choice == 'paper') :\n",
        "    print (\"user wins\")\n",
        "elif userinput == computer_choice :\n",
        "    print (\"its a tie\")\n",
        "else :\n",
        "    print (\"computer wins\")"
      ],
      "metadata": {
        "colab": {
          "base_uri": "https://localhost:8080/"
        },
        "id": "ddcLr3TnNzNM",
        "outputId": "39a4cf18-a29f-4f58-ffc2-94e413c8125b"
      },
      "execution_count": null,
      "outputs": [
        {
          "output_type": "stream",
          "name": "stdout",
          "text": [
            "Enter rock, paper, or scissors:paper\n",
            "computer chose: paper\n",
            "its a tie\n"
          ]
        }
      ]
    },
    {
      "cell_type": "code",
      "source": [],
      "metadata": {
        "id": "rQTg05Y71aNU"
      },
      "execution_count": null,
      "outputs": []
    },
    {
      "cell_type": "code",
      "source": [
        "userinput = int(input('enter year :'))\n",
        "if userinput % 100 == 0 :\n",
        "  if userinput % 400 == 0 :\n",
        "    print ('this is a leap year')\n",
        "  else:\n",
        "    print(\"this is not a leap year\")\n",
        "elif userinput % 4 ==0 :\n",
        "  print ('this is a leap year')\n",
        "else:\n",
        "  print ('this is not a leap year')\n"
      ],
      "metadata": {
        "colab": {
          "base_uri": "https://localhost:8080/"
        },
        "id": "ZHAmWkGAK67V",
        "outputId": "1a75d3a4-eb0d-4050-be45-37cf56368c8e"
      },
      "execution_count": null,
      "outputs": [
        {
          "output_type": "stream",
          "name": "stdout",
          "text": [
            "enter year :2000\n",
            "this is a leap year\n"
          ]
        }
      ]
    },
    {
      "cell_type": "code",
      "source": [
        "hoursInput= int(input(\"enter the # of hours parked:\"))\n",
        "parking_fee=0\n",
        "for hours in range (1,9):\n",
        "  parking_fee=5 +2.5*hours\n",
        "\n",
        "\n",
        "\n",
        "  if parking_fee<=10:\n",
        "    parking_fee=10\n",
        "  elif parking_fee >=20:\n",
        "    parking_fee=20\n",
        "  print (f'Hours: {hours} | Price: ${float(parking_fee)}')\n"
      ],
      "metadata": {
        "colab": {
          "base_uri": "https://localhost:8080/"
        },
        "id": "8grpBdNy1bgV",
        "outputId": "eeaf6ebb-f401-4166-bf40-d2e833528813"
      },
      "execution_count": null,
      "outputs": [
        {
          "output_type": "stream",
          "name": "stdout",
          "text": [
            "enter the # of hours parked:8\n",
            "Hours: 1 | Price: $10.0\n",
            "Hours: 2 | Price: $10.0\n",
            "Hours: 3 | Price: $12.5\n",
            "Hours: 4 | Price: $15.0\n",
            "Hours: 5 | Price: $17.5\n",
            "Hours: 6 | Price: $20.0\n",
            "Hours: 7 | Price: $20.0\n",
            "Hours: 8 | Price: $20.0\n"
          ]
        }
      ]
    },
    {
      "cell_type": "code",
      "source": [
        "ticketPrice=10\n",
        "forecastedpeople=20\n",
        "fixedcosts=200\n",
        "for each in range(0,225,25):\n",
        "  additional = 2*round(each**.5)\n",
        "  profit = (10*each)-additional-fixedcosts\n",
        "  print(profit)\n"
      ],
      "metadata": {
        "colab": {
          "base_uri": "https://localhost:8080/"
        },
        "id": "2xo9UuNd7x9z",
        "outputId": "466b7d50-8987-44d4-a1f6-42200559aacf"
      },
      "execution_count": null,
      "outputs": [
        {
          "output_type": "stream",
          "name": "stdout",
          "text": [
            "-200\n",
            "40\n",
            "286\n",
            "532\n",
            "780\n",
            "1028\n",
            "1276\n",
            "1524\n",
            "1772\n"
          ]
        }
      ]
    },
    {
      "cell_type": "markdown",
      "source": [
        "Design a calculator :\n",
        "- The calculator once starts, cannot stop unless the user chooses to (hint : infinite loop)\n",
        "- Implement all numerical operators that we discussed\n",
        "- The user has to provide the numbers and the desired operator from the keyboard; then, the calculator will display the result\n",
        "- Numbers : int or float, operator : str\n",
        "- The calculator stops if the user enters the word \"break\" instead of an operator; it skips an iteration if the user gives an operator that is not numerical (a Boolean one)"
      ],
      "metadata": {
        "id": "rhz7rwOOpTNh"
      }
    },
    {
      "cell_type": "code",
      "source": [
        "\n",
        "\n",
        "\n",
        "\n",
        "\n"
      ],
      "metadata": {
        "id": "mn8vR_8rqzRP"
      },
      "execution_count": null,
      "outputs": []
    },
    {
      "cell_type": "code",
      "source": [
        "while True:\n",
        "  input1=float(input (\"Enter number 1 :\"))\n",
        "  input2=float(input (\"Enter number 2 :\"))\n",
        "  operator= input(\"Enter mathematical operator :\")\n",
        "\n",
        "  if operator == \"break\":\n",
        "    break\n",
        "  elif operator == \"+\":\n",
        "    output = input1+input2\n",
        "  elif operator == \"-\":\n",
        "    output = input1-input2\n",
        "  elif operator == \"*\":\n",
        "    output = input1*input2\n",
        "  elif operator == \"/\":\n",
        "    output = input1/input2\n",
        "  elif operator == \"//\":\n",
        "    output = input1//input2\n",
        "  elif operator == \"%\":\n",
        "    output = input1%input2\n",
        "  elif operator == \"%\" :\n",
        "    output = input1**input2\n",
        "  else:\n",
        "    continue\n",
        "  print(output)\n",
        "\n",
        "\n",
        "\n",
        "\n",
        "\n",
        "\n"
      ],
      "metadata": {
        "colab": {
          "base_uri": "https://localhost:8080/"
        },
        "id": "Z99bg34LrI8O",
        "outputId": "0dfc8cee-7236-47c1-b375-e2a62abce436"
      },
      "execution_count": null,
      "outputs": [
        {
          "metadata": {
            "tags": null
          },
          "name": "stdout",
          "output_type": "stream",
          "text": [
            "0.0\n"
          ]
        }
      ]
    }
  ]
}