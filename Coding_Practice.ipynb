{
  "cells": [
    {
      "cell_type": "markdown",
      "metadata": {
        "id": "view-in-github",
        "colab_type": "text"
      },
      "source": [
        "<a href=\"https://colab.research.google.com/github/bwright6/BTE-320/blob/main/Coding_Practice.ipynb\" target=\"_parent\"><img src=\"https://colab.research.google.com/assets/colab-badge.svg\" alt=\"Open In Colab\"/></a>"
      ]
    },
    {
      "cell_type": "code",
      "execution_count": null,
      "metadata": {
        "colab": {
          "base_uri": "https://localhost:8080/"
        },
        "id": "kAA4ox48F4sQ",
        "outputId": "c1f46da9-f168-40d0-8e10-f5570e41ae6b"
      },
      "outputs": [
        {
          "name": "stdout",
          "output_type": "stream",
          "text": [
            "Do you want to play : (y/n)y\n",
            "Enter rock, paper, or scissors:rock\n",
            "computer chose: scissors\n",
            "user wins\n",
            "Do you want to play again? (y/n)n\n"
          ]
        }
      ],
      "source": [
        "import random\n",
        "Playagain= input(\"Do you want to play : (y/n)\")\n",
        "while Playagain == \"y\":\n",
        "  computer_choice = random.choice (['rock', 'paper', 'scissors'])\n",
        "  userinput = input (\"Enter rock, paper, or scissors:\")\n",
        "  print(f'computer chose: {computer_choice}')\n",
        "  if (userinput =='rock' and computer_choice == 'scissors') or (userinput == 'paper' and computer_choice == 'rock') or (userinput == 'scissors' and computer_choice == 'paper') :\n",
        "    print (\"user wins\")\n",
        "  elif userinput == computer_choice :\n",
        "    print (\"its a tie\")\n",
        "  else :\n",
        "    print (\"computer wins\")\n",
        "\n",
        "  Playagain=input(\"Do you want to play again? (y/n)\")"
      ]
    },
    {
      "cell_type": "code",
      "source": [
        "s1 = \"abcdefg\"\n",
        "s2= \"abdght\"\n",
        "\n",
        "for char in s1:\n",
        "  if char in s1==s2:\n",
        "    print(char)"
      ],
      "metadata": {
        "id": "KsS1DwhdM0f9"
      },
      "execution_count": null,
      "outputs": []
    },
    {
      "cell_type": "code",
      "execution_count": null,
      "metadata": {
        "colab": {
          "base_uri": "https://localhost:8080/"
        },
        "id": "ddcLr3TnNzNM",
        "outputId": "39a4cf18-a29f-4f58-ffc2-94e413c8125b"
      },
      "outputs": [
        {
          "name": "stdout",
          "output_type": "stream",
          "text": [
            "Enter rock, paper, or scissors:paper\n",
            "computer chose: paper\n",
            "its a tie\n"
          ]
        }
      ],
      "source": [
        "import random\n",
        "computer_choice = random.choice (['rock', 'paper', 'scissors'])\n",
        "userinput = input (\"Enter rock, paper, or scissors:\")\n",
        "print(f'computer chose: {computer_choice}')\n",
        "if (userinput =='rock' and computer_choice == 'scissors') or (userinput == 'paper' and computer_choice == 'rock') or (userinput == 'scissors' and computer_choice == 'paper') :\n",
        "    print (\"user wins\")\n",
        "elif userinput == computer_choice :\n",
        "    print (\"its a tie\")\n",
        "else :\n",
        "    print (\"computer wins\")"
      ]
    },
    {
      "cell_type": "code",
      "execution_count": null,
      "metadata": {
        "colab": {
          "base_uri": "https://localhost:8080/"
        },
        "id": "ZHAmWkGAK67V",
        "outputId": "1a75d3a4-eb0d-4050-be45-37cf56368c8e"
      },
      "outputs": [
        {
          "name": "stdout",
          "output_type": "stream",
          "text": [
            "enter year :2000\n",
            "this is a leap year\n"
          ]
        }
      ],
      "source": [
        "userinput = int(input('enter year :'))\n",
        "if userinput % 100 == 0 :\n",
        "  if userinput % 400 == 0 :\n",
        "    print ('this is a leap year')\n",
        "  else:\n",
        "    print(\"this is not a leap year\")\n",
        "elif userinput % 4 ==0 :\n",
        "  print ('this is a leap year')\n",
        "else:\n",
        "  print ('this is not a leap year')\n"
      ]
    },
    {
      "cell_type": "code",
      "execution_count": null,
      "metadata": {
        "colab": {
          "base_uri": "https://localhost:8080/"
        },
        "id": "8grpBdNy1bgV",
        "outputId": "eeaf6ebb-f401-4166-bf40-d2e833528813"
      },
      "outputs": [
        {
          "name": "stdout",
          "output_type": "stream",
          "text": [
            "enter the # of hours parked:8\n",
            "Hours: 1 | Price: $10.0\n",
            "Hours: 2 | Price: $10.0\n",
            "Hours: 3 | Price: $12.5\n",
            "Hours: 4 | Price: $15.0\n",
            "Hours: 5 | Price: $17.5\n",
            "Hours: 6 | Price: $20.0\n",
            "Hours: 7 | Price: $20.0\n",
            "Hours: 8 | Price: $20.0\n"
          ]
        }
      ],
      "source": [
        "hoursInput= int(input(\"enter the # of hours parked:\"))\n",
        "parking_fee=0\n",
        "for hours in range (1,9):\n",
        "  parking_fee=5 +2.5*hours\n",
        "\n",
        "\n",
        "\n",
        "  if parking_fee<=10:\n",
        "    parking_fee=10\n",
        "  elif parking_fee >=20:\n",
        "    parking_fee=20\n",
        "  print (f'Hours: {hours} | Price: ${float(parking_fee)}')\n"
      ]
    },
    {
      "cell_type": "markdown",
      "metadata": {
        "id": "rhz7rwOOpTNh"
      },
      "source": [
        "Design a calculator :\n",
        "- The calculator once starts, cannot stop unless the user chooses to (hint : infinite loop)\n",
        "- Implement all numerical operators that we discussed\n",
        "- The user has to provide the numbers and the desired operator from the keyboard; then, the calculator will display the result\n",
        "- Numbers : int or float, operator : str\n",
        "- The calculator stops if the user enters the word \"break\" instead of an operator; it skips an iteration if the user gives an operator that is not numerical (a Boolean one)"
      ]
    },
    {
      "cell_type": "code",
      "execution_count": null,
      "metadata": {
        "colab": {
          "base_uri": "https://localhost:8080/"
        },
        "id": "Z99bg34LrI8O",
        "outputId": "adf12433-4867-4fd9-e9d4-f043630866be"
      },
      "outputs": [
        {
          "name": "stdout",
          "output_type": "stream",
          "text": [
            "Enter number 1 :3\n",
            "Enter number 2 :4\n",
            "Enter mathematical operator :+\n",
            "Result: 7.0\n",
            "Enter number 1 :4\n",
            "Enter number 2 :2\n",
            "Enter mathematical operator :break\n"
          ]
        }
      ],
      "source": [
        "while True:\n",
        "  num1=float(input (\"Enter number 1 :\"))\n",
        "  num2=float(input (\"Enter number 2 :\"))\n",
        "  operator= input(\"Enter mathematical operator :\")\n",
        "\n",
        "  if operator == \"break\":\n",
        "    break\n",
        "  elif operator == \"+\":\n",
        "    output = num1+num2\n",
        "  elif operator == \"-\":\n",
        "    output = num1-num2\n",
        "  elif operator == \"*\":\n",
        "    output = num1*num2\n",
        "  elif operator == \"/\":\n",
        "    output = num1/num2\n",
        "  elif operator == \"//\":\n",
        "    output = num1//num2\n",
        "  elif operator == \"%\":\n",
        "    output = num1%num2\n",
        "  elif operator == \"**\" :\n",
        "    output = num1**num2\n",
        "  else:\n",
        "    print(\"Invalid operator:\", operator)\n",
        "    continue\n",
        "  print(\"Result:\", output)\n",
        "\n",
        "\n",
        "\n",
        "\n",
        "\n",
        "\n"
      ]
    },
    {
      "cell_type": "code",
      "execution_count": null,
      "metadata": {
        "id": "1zwKeKv__X6b"
      },
      "outputs": [],
      "source": [
        "userinput = input(\"Enter the date in mm/dd/yyyy format:\")\n",
        "month = userinput[0:2]\n",
        "date = userinput[3:5]\n",
        "year = userinput[6:]\n",
        "print(f'{month} {date} {year}')"
      ]
    },
    {
      "cell_type": "code",
      "source": [
        "months = {}\n",
        "numbers = [1,2,3,4,5,6,7,8,9,10,11,12]\n",
        "names = [\"Jan\", \"Feb\", \"Mar\", \"Apr\", \"May\", \"Jun\", \"Jul\", \"Aug\", \"Sep\", \"Oct\", \"Nov\", \"Dec\"]\n",
        "for i in numbers:\n",
        "  months[i]=names[i-1]\n",
        "  print(months)\n"
      ],
      "metadata": {
        "colab": {
          "base_uri": "https://localhost:8080/"
        },
        "id": "UKqU3ULy9C1r",
        "outputId": "6450a3ad-8e0e-4009-d532-2c30f68c8a54"
      },
      "execution_count": 1,
      "outputs": [
        {
          "output_type": "stream",
          "name": "stdout",
          "text": [
            "{1: 'Jan'}\n",
            "{1: 'Jan', 2: 'Feb'}\n",
            "{1: 'Jan', 2: 'Feb', 3: 'Mar'}\n",
            "{1: 'Jan', 2: 'Feb', 3: 'Mar', 4: 'Apr'}\n",
            "{1: 'Jan', 2: 'Feb', 3: 'Mar', 4: 'Apr', 5: 'May'}\n",
            "{1: 'Jan', 2: 'Feb', 3: 'Mar', 4: 'Apr', 5: 'May', 6: 'Jun'}\n",
            "{1: 'Jan', 2: 'Feb', 3: 'Mar', 4: 'Apr', 5: 'May', 6: 'Jun', 7: 'Jul'}\n",
            "{1: 'Jan', 2: 'Feb', 3: 'Mar', 4: 'Apr', 5: 'May', 6: 'Jun', 7: 'Jul', 8: 'Aug'}\n",
            "{1: 'Jan', 2: 'Feb', 3: 'Mar', 4: 'Apr', 5: 'May', 6: 'Jun', 7: 'Jul', 8: 'Aug', 9: 'Sep'}\n",
            "{1: 'Jan', 2: 'Feb', 3: 'Mar', 4: 'Apr', 5: 'May', 6: 'Jun', 7: 'Jul', 8: 'Aug', 9: 'Sep', 10: 'Oct'}\n",
            "{1: 'Jan', 2: 'Feb', 3: 'Mar', 4: 'Apr', 5: 'May', 6: 'Jun', 7: 'Jul', 8: 'Aug', 9: 'Sep', 10: 'Oct', 11: 'Nov'}\n",
            "{1: 'Jan', 2: 'Feb', 3: 'Mar', 4: 'Apr', 5: 'May', 6: 'Jun', 7: 'Jul', 8: 'Aug', 9: 'Sep', 10: 'Oct', 11: 'Nov', 12: 'Dec'}\n"
          ]
        }
      ]
    },
    {
      "cell_type": "code",
      "execution_count": null,
      "metadata": {
        "id": "utV_n1q8VSkk"
      },
      "outputs": [],
      "source": [
        "s1= 'abcdefg'\n",
        "s2= 'abdght'\n",
        "\n",
        "for char in s1:\n",
        "  if char in s2:\n",
        "    print (f'{char} is in s1 and s2')\n",
        "\n",
        "for i in range (len(s1)):\n",
        "  if s1[i] in s2:\n",
        "    print(f' {s1 [i]} is in s2')\n",
        "\n"
      ]
    },
    {
      "cell_type": "code",
      "execution_count": null,
      "metadata": {
        "colab": {
          "background_save": true
        },
        "id": "FcrX-q0GEEqN"
      },
      "outputs": [],
      "source": [
        "L=[]\n",
        "number = int(input(\"Enter a value:\"))\n",
        "while number !=0:\n",
        "  L.append(number)\n",
        "  print(f'New list: {L}')\n",
        "  number = int(input(\"Enter a value:\"))\n",
        "\n"
      ]
    },
    {
      "cell_type": "code",
      "source": [
        "def factorial(n):\n",
        "  if n==1:\n",
        "    return 1\n",
        "  else:\n",
        "    return factorial(n-1)* n\n",
        "factorial(10)"
      ],
      "metadata": {
        "colab": {
          "base_uri": "https://localhost:8080/"
        },
        "id": "gs0uI7G7EQWD",
        "outputId": "897ff203-afac-4c2d-abea-be674f8d7486"
      },
      "execution_count": null,
      "outputs": [
        {
          "output_type": "execute_result",
          "data": {
            "text/plain": [
              "3628800"
            ]
          },
          "metadata": {},
          "execution_count": 12
        }
      ]
    },
    {
      "cell_type": "code",
      "source": [
        "def reversal(n):\n",
        "  if len(n)==1:\n",
        "    return n\n",
        "  else:\n",
        "    return n[-1] + reversal(n[:-1])\n",
        "reversal(\"float\")"
      ],
      "metadata": {
        "id": "I2OCreIyHubx",
        "colab": {
          "base_uri": "https://localhost:8080/",
          "height": 37
        },
        "outputId": "1c71db71-1dfa-4a18-e87f-fd729c206fb3"
      },
      "execution_count": null,
      "outputs": [
        {
          "output_type": "execute_result",
          "data": {
            "text/plain": [
              "'taolf'"
            ],
            "application/vnd.google.colaboratory.intrinsic+json": {
              "type": "string"
            }
          },
          "metadata": {},
          "execution_count": 2
        }
      ]
    },
    {
      "cell_type": "code",
      "source": [
        "def quickSort(alist):\n",
        "  if len(alist)<2:\n",
        "    return alist\n",
        "  else:\n",
        "    less, equal, larger = [],[],[]\n",
        "\n",
        "    pivotindex=len(alist)//2\n",
        "\n",
        "    for item in alist:\n",
        "      if item < alist[pivotindex]:\n",
        "        less.append(item)\n",
        "      elif item ==alist[pivotindex]:\n",
        "        equal.append(item)\n",
        "      else:\n",
        "        larger.append(item)\n",
        "\n",
        "    return quickSort(less) + equal + quickSort(larger)\n",
        "\n",
        "quickSort([8,2,5,3,6,1])"
      ],
      "metadata": {
        "colab": {
          "base_uri": "https://localhost:8080/"
        },
        "id": "TNPAr3f2XqSD",
        "outputId": "f009612a-b39b-4715-b656-b84414f2efa3"
      },
      "execution_count": null,
      "outputs": [
        {
          "output_type": "execute_result",
          "data": {
            "text/plain": [
              "[1, 2, 3, 5, 6, 8]"
            ]
          },
          "metadata": {},
          "execution_count": 6
        }
      ]
    },
    {
      "cell_type": "code",
      "source": [
        "def avg(alist):\n",
        "  try:\n",
        "    print(sum(alist)/len(alist))\n",
        "  except ZeroDivisionError:\n",
        "    print(\"the list is empty\")\n",
        "  except TypeError:\n",
        "    print(\"the list must be numeric only\")\n",
        "  else:\n",
        "    print(\"the average is found\")\n",
        "  finally:\n",
        "    print(\"This is always displayed\")\n",
        "\n",
        "avg([])"
      ],
      "metadata": {
        "colab": {
          "base_uri": "https://localhost:8080/"
        },
        "id": "PBbY_RkJNp2P",
        "outputId": "de017164-2edf-4c7e-a1d9-76e5b1d39b17"
      },
      "execution_count": null,
      "outputs": [
        {
          "output_type": "stream",
          "name": "stdout",
          "text": [
            "the list is empty\n",
            "This is always displayed\n"
          ]
        }
      ]
    },
    {
      "cell_type": "code",
      "source": [
        "def avg(alist):\n",
        "  try:\n",
        "    return(sum(alist)/len(alist))\n",
        "  except ZeroDivisionError:\n",
        "    print(\"the list is empty\")\n",
        "    return []\n",
        "  except TypeError:\n",
        "    print(\"the list must be numeric only\")\n",
        "\n",
        "avg([])"
      ],
      "metadata": {
        "colab": {
          "base_uri": "https://localhost:8080/"
        },
        "id": "eO9VRekmSCB6",
        "outputId": "4749c196-5bb9-48d0-d6a6-ab41b0752f1d"
      },
      "execution_count": null,
      "outputs": [
        {
          "output_type": "stream",
          "name": "stdout",
          "text": [
            "the list is empty\n"
          ]
        },
        {
          "output_type": "execute_result",
          "data": {
            "text/plain": [
              "[]"
            ]
          },
          "metadata": {},
          "execution_count": 25
        }
      ]
    },
    {
      "cell_type": "code",
      "source": [
        "class Mortgage:\n",
        "  def __init__ (self,amount, years, interest):\n",
        "    self.amount = amount\n",
        "    self.years = years\n",
        "    self._interest = interest\n",
        "\n",
        "  def get_interest(self):\n",
        "    return self._interest\n",
        "\n",
        "  def set_interest(self,newInterest):\n",
        "    if newInterest >= 0:\n",
        "      self._interest = newInterest\n",
        "    else:\n",
        "      print(\"Interest must be non-negative\")\n",
        "\n",
        "  def payment(self):\n",
        "    B = self.amount\n",
        "    n = self.years *12\n",
        "    r = self._interest /100\n",
        "    return B * r *(1+r) **n /((1+r) ** n -1)\n",
        "\n",
        "m = Mortgage(100000, 30, 6)\n"
      ],
      "metadata": {
        "id": "s0oZWs5OhtRC"
      },
      "execution_count": null,
      "outputs": []
    },
    {
      "cell_type": "markdown",
      "source": [
        "# New Section"
      ],
      "metadata": {
        "id": "RiWoFbEO7y8U"
      }
    },
    {
      "cell_type": "code",
      "source": [
        "m = Mortgage(100000, 30, 6)\n",
        "m.payment()"
      ],
      "metadata": {
        "colab": {
          "base_uri": "https://localhost:8080/"
        },
        "id": "llk7c4Y8iC4F",
        "outputId": "a0711672-e5c6-4d01-b305-8392ede83faf"
      },
      "execution_count": null,
      "outputs": [
        {
          "output_type": "execute_result",
          "data": {
            "text/plain": [
              "6000.000004656287"
            ]
          },
          "metadata": {},
          "execution_count": 99
        }
      ]
    },
    {
      "cell_type": "code",
      "source": [
        "m.set_interest(-5)\n",
        "m.get_interest()\n"
      ],
      "metadata": {
        "colab": {
          "base_uri": "https://localhost:8080/"
        },
        "id": "va9g3sZGk2C7",
        "outputId": "c1b9f0f8-ee91-47f2-9867-cf09e9d6d35d"
      },
      "execution_count": null,
      "outputs": [
        {
          "output_type": "stream",
          "name": "stdout",
          "text": [
            "Interest must be non-negative\n"
          ]
        },
        {
          "output_type": "execute_result",
          "data": {
            "text/plain": [
              "6"
            ]
          },
          "metadata": {},
          "execution_count": 100
        }
      ]
    }
  ],
  "metadata": {
    "colab": {
      "provenance": [],
      "authorship_tag": "ABX9TyOzKlcHLzQj/ghlNrZgEbBa",
      "include_colab_link": true
    },
    "kernelspec": {
      "display_name": "Python 3",
      "name": "python3"
    },
    "language_info": {
      "name": "python"
    }
  },
  "nbformat": 4,
  "nbformat_minor": 0
}