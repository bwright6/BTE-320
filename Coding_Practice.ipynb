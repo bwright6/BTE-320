{
  "cells": [
    {
      "cell_type": "markdown",
      "metadata": {
        "id": "view-in-github",
        "colab_type": "text"
      },
      "source": [
        "<a href=\"https://colab.research.google.com/github/bwright6/BTE-320/blob/main/Coding_Practice.ipynb\" target=\"_parent\"><img src=\"https://colab.research.google.com/assets/colab-badge.svg\" alt=\"Open In Colab\"/></a>"
      ]
    },
    {
      "cell_type": "code",
      "execution_count": null,
      "metadata": {
        "colab": {
          "base_uri": "https://localhost:8080/"
        },
        "id": "kAA4ox48F4sQ",
        "outputId": "c1f46da9-f168-40d0-8e10-f5570e41ae6b"
      },
      "outputs": [
        {
          "name": "stdout",
          "output_type": "stream",
          "text": [
            "Do you want to play : (y/n)y\n",
            "Enter rock, paper, or scissors:rock\n",
            "computer chose: scissors\n",
            "user wins\n",
            "Do you want to play again? (y/n)n\n"
          ]
        }
      ],
      "source": [
        "import random\n",
        "Playagain= input(\"Do you want to play : (y/n)\")\n",
        "while Playagain == \"y\":\n",
        "  computer_choice = random.choice (['rock', 'paper', 'scissors'])\n",
        "  userinput = input (\"Enter rock, paper, or scissors:\")\n",
        "  print(f'computer chose: {computer_choice}')\n",
        "  if (userinput =='rock' and computer_choice == 'scissors') or (userinput == 'paper' and computer_choice == 'rock') or (userinput == 'scissors' and computer_choice == 'paper') :\n",
        "    print (\"user wins\")\n",
        "  elif userinput == computer_choice :\n",
        "    print (\"its a tie\")\n",
        "  else :\n",
        "    print (\"computer wins\")\n",
        "\n",
        "  Playagain=input(\"Do you want to play again? (y/n)\")"
      ]
    },
    {
      "cell_type": "code",
      "execution_count": null,
      "metadata": {
        "colab": {
          "base_uri": "https://localhost:8080/"
        },
        "id": "ddcLr3TnNzNM",
        "outputId": "39a4cf18-a29f-4f58-ffc2-94e413c8125b"
      },
      "outputs": [
        {
          "name": "stdout",
          "output_type": "stream",
          "text": [
            "Enter rock, paper, or scissors:paper\n",
            "computer chose: paper\n",
            "its a tie\n"
          ]
        }
      ],
      "source": [
        "import random\n",
        "computer_choice = random.choice (['rock', 'paper', 'scissors'])\n",
        "userinput = input (\"Enter rock, paper, or scissors:\")\n",
        "print(f'computer chose: {computer_choice}')\n",
        "if (userinput =='rock' and computer_choice == 'scissors') or (userinput == 'paper' and computer_choice == 'rock') or (userinput == 'scissors' and computer_choice == 'paper') :\n",
        "    print (\"user wins\")\n",
        "elif userinput == computer_choice :\n",
        "    print (\"its a tie\")\n",
        "else :\n",
        "    print (\"computer wins\")"
      ]
    },
    {
      "cell_type": "code",
      "execution_count": null,
      "metadata": {
        "id": "rQTg05Y71aNU"
      },
      "outputs": [],
      "source": []
    },
    {
      "cell_type": "code",
      "execution_count": null,
      "metadata": {
        "colab": {
          "base_uri": "https://localhost:8080/"
        },
        "id": "ZHAmWkGAK67V",
        "outputId": "1a75d3a4-eb0d-4050-be45-37cf56368c8e"
      },
      "outputs": [
        {
          "name": "stdout",
          "output_type": "stream",
          "text": [
            "enter year :2000\n",
            "this is a leap year\n"
          ]
        }
      ],
      "source": [
        "userinput = int(input('enter year :'))\n",
        "if userinput % 100 == 0 :\n",
        "  if userinput % 400 == 0 :\n",
        "    print ('this is a leap year')\n",
        "  else:\n",
        "    print(\"this is not a leap year\")\n",
        "elif userinput % 4 ==0 :\n",
        "  print ('this is a leap year')\n",
        "else:\n",
        "  print ('this is not a leap year')\n"
      ]
    },
    {
      "cell_type": "code",
      "execution_count": null,
      "metadata": {
        "colab": {
          "base_uri": "https://localhost:8080/"
        },
        "id": "8grpBdNy1bgV",
        "outputId": "eeaf6ebb-f401-4166-bf40-d2e833528813"
      },
      "outputs": [
        {
          "name": "stdout",
          "output_type": "stream",
          "text": [
            "enter the # of hours parked:8\n",
            "Hours: 1 | Price: $10.0\n",
            "Hours: 2 | Price: $10.0\n",
            "Hours: 3 | Price: $12.5\n",
            "Hours: 4 | Price: $15.0\n",
            "Hours: 5 | Price: $17.5\n",
            "Hours: 6 | Price: $20.0\n",
            "Hours: 7 | Price: $20.0\n",
            "Hours: 8 | Price: $20.0\n"
          ]
        }
      ],
      "source": [
        "hoursInput= int(input(\"enter the # of hours parked:\"))\n",
        "parking_fee=0\n",
        "for hours in range (1,9):\n",
        "  parking_fee=5 +2.5*hours\n",
        "\n",
        "\n",
        "\n",
        "  if parking_fee<=10:\n",
        "    parking_fee=10\n",
        "  elif parking_fee >=20:\n",
        "    parking_fee=20\n",
        "  print (f'Hours: {hours} | Price: ${float(parking_fee)}')\n"
      ]
    },
    {
      "cell_type": "code",
      "execution_count": null,
      "metadata": {
        "colab": {
          "base_uri": "https://localhost:8080/"
        },
        "id": "2xo9UuNd7x9z",
        "outputId": "466b7d50-8987-44d4-a1f6-42200559aacf"
      },
      "outputs": [
        {
          "name": "stdout",
          "output_type": "stream",
          "text": [
            "-200\n",
            "40\n",
            "286\n",
            "532\n",
            "780\n",
            "1028\n",
            "1276\n",
            "1524\n",
            "1772\n"
          ]
        }
      ],
      "source": [
        "ticketPrice=10\n",
        "forecastedpeople=20\n",
        "fixedcosts=200\n",
        "for each in range(0,225,25):\n",
        "  additional = 2*round(each**.5)\n",
        "  profit = (10*each)-additional-fixedcosts\n",
        "  print(profit)\n"
      ]
    },
    {
      "cell_type": "markdown",
      "metadata": {
        "id": "rhz7rwOOpTNh"
      },
      "source": [
        "Design a calculator :\n",
        "- The calculator once starts, cannot stop unless the user chooses to (hint : infinite loop)\n",
        "- Implement all numerical operators that we discussed\n",
        "- The user has to provide the numbers and the desired operator from the keyboard; then, the calculator will display the result\n",
        "- Numbers : int or float, operator : str\n",
        "- The calculator stops if the user enters the word \"break\" instead of an operator; it skips an iteration if the user gives an operator that is not numerical (a Boolean one)"
      ]
    },
    {
      "cell_type": "code",
      "execution_count": null,
      "metadata": {
        "colab": {
          "base_uri": "https://localhost:8080/"
        },
        "id": "Z99bg34LrI8O",
        "outputId": "152c180a-e5b7-44c6-f7f0-957592ac9cc9"
      },
      "outputs": [
        {
          "name": "stdout",
          "output_type": "stream",
          "text": [
            "Enter number 1 :2\n",
            "Enter number 2 :3\n",
            "Enter mathematical operator :**\n",
            "Result: 8.0\n",
            "Enter number 1 :3\n",
            "Enter number 2 :4\n",
            "Enter mathematical operator :^\n",
            "Invalid operator: ^\n",
            "Enter number 1 :4\n",
            "Enter number 2 :1\n",
            "Enter mathematical operator :break\n"
          ]
        }
      ],
      "source": [
        "while True:\n",
        "  num1=float(input (\"Enter number 1 :\"))\n",
        "  num2=float(input (\"Enter number 2 :\"))\n",
        "  operator= input(\"Enter mathematical operator :\")\n",
        "\n",
        "  if operator == \"break\":\n",
        "    break\n",
        "  elif operator == \"+\":\n",
        "    output = num1+num2\n",
        "  elif operator == \"-\":\n",
        "    output = num1-num2\n",
        "  elif operator == \"*\":\n",
        "    output = num1*num2\n",
        "  elif operator == \"/\":\n",
        "    output = num1/num2\n",
        "  elif operator == \"//\":\n",
        "    output = num1//num2\n",
        "  elif operator == \"%\":\n",
        "    output = num1%num2\n",
        "  elif operator == \"**\" :\n",
        "    output = num1**num2\n",
        "  else:\n",
        "    print(\"Invalid operator:\", operator)\n",
        "    continue\n",
        "  print(\"Result:\", output)\n",
        "\n",
        "\n",
        "\n",
        "\n",
        "\n",
        "\n"
      ]
    },
    {
      "cell_type": "code",
      "source": [
        "userinput = input(\"Enter the date in mm/dd/yyyy format:\")\n",
        "month = userinput[0:2]\n",
        "date = userinput[3:5]\n",
        "year = userinput[6:]\n",
        "print(f'{month} {date} {year}')"
      ],
      "metadata": {
        "colab": {
          "base_uri": "https://localhost:8080/"
        },
        "id": "1zwKeKv__X6b",
        "outputId": "562ded97-2737-4917-8fa1-a327c01a3c58"
      },
      "execution_count": 5,
      "outputs": [
        {
          "output_type": "stream",
          "name": "stdout",
          "text": [
            "Enter the date in mm/dd/yyyy format:08/09/2004\n",
            "08 09 2004\n"
          ]
        }
      ]
    }
  ],
  "metadata": {
    "colab": {
      "provenance": [],
      "authorship_tag": "ABX9TyOThcB4tXDd6kMDG96q4RNs",
      "include_colab_link": true
    },
    "kernelspec": {
      "display_name": "Python 3",
      "name": "python3"
    },
    "language_info": {
      "name": "python"
    }
  },
  "nbformat": 4,
  "nbformat_minor": 0
}